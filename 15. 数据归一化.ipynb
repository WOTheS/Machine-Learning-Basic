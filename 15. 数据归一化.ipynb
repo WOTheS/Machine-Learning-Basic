{
 "cells": [
  {
   "cell_type": "markdown",
   "metadata": {},
   "source": [
    "# 数据归一化\n",
    "- 某些情况下部分feature之间的距离明显大于其他feature的距离，导致部分feature主导了距离的计算\n",
    "- 因此要进行每个feature的数据归一化\n",
    "\n",
    "## 将所有的数据映射到同一尺度\n",
    "- 最值归一化 normalization ：把所有数据映射到 0-1 之间， 适用于分布有明显边界的情况（如分数，rgb值），受outlier影响较大\n",
    "- 均值方差归一化 standarlization ：把所有数据归一到均值为0，方差为1的分布中，适用于没有明显边界的分布，推荐使用 （x - 均值）/方差"
   ]
  },
  {
   "cell_type": "code",
   "execution_count": 1,
   "metadata": {},
   "outputs": [],
   "source": [
    "import numpy as np\n",
    "import matplotlib.pyplot as plt"
   ]
  },
  {
   "cell_type": "code",
   "execution_count": 2,
   "metadata": {},
   "outputs": [
    {
     "data": {
      "text/plain": [
       "array([90, 54, 26, 28, 72, 80, 70, 30, 41, 52, 50,  8,  0, 26, 89, 37, 52,\n",
       "       22, 29, 24, 19, 13, 75,  6, 88, 47, 24, 41, 10, 43, 74, 85, 94, 12,\n",
       "        4, 82, 51, 60, 49,  0, 64, 63,  9, 86, 21, 40, 25, 36,  7, 83, 72,\n",
       "       88, 78, 60, 86, 53, 53, 84, 27, 65, 98, 99, 43, 75, 65, 99, 45, 85,\n",
       "       77, 58, 18, 71,  1,  4,  7, 92, 35, 21, 88, 56,  9,  6,  1, 55, 32,\n",
       "       33, 48, 88, 63, 13,  9, 10, 18, 34, 38, 77, 99, 26, 11, 16])"
      ]
     },
     "execution_count": 2,
     "metadata": {},
     "output_type": "execute_result"
    }
   ],
   "source": [
    "x = np.random.randint(0, 100, size = 100)\n",
    "x"
   ]
  },
  {
   "cell_type": "code",
   "execution_count": 3,
   "metadata": {},
   "outputs": [
    {
     "data": {
      "text/plain": [
       "array([0.90909091, 0.54545455, 0.26262626, 0.28282828, 0.72727273,\n",
       "       0.80808081, 0.70707071, 0.3030303 , 0.41414141, 0.52525253,\n",
       "       0.50505051, 0.08080808, 0.        , 0.26262626, 0.8989899 ,\n",
       "       0.37373737, 0.52525253, 0.22222222, 0.29292929, 0.24242424,\n",
       "       0.19191919, 0.13131313, 0.75757576, 0.06060606, 0.88888889,\n",
       "       0.47474747, 0.24242424, 0.41414141, 0.1010101 , 0.43434343,\n",
       "       0.74747475, 0.85858586, 0.94949495, 0.12121212, 0.04040404,\n",
       "       0.82828283, 0.51515152, 0.60606061, 0.49494949, 0.        ,\n",
       "       0.64646465, 0.63636364, 0.09090909, 0.86868687, 0.21212121,\n",
       "       0.4040404 , 0.25252525, 0.36363636, 0.07070707, 0.83838384,\n",
       "       0.72727273, 0.88888889, 0.78787879, 0.60606061, 0.86868687,\n",
       "       0.53535354, 0.53535354, 0.84848485, 0.27272727, 0.65656566,\n",
       "       0.98989899, 1.        , 0.43434343, 0.75757576, 0.65656566,\n",
       "       1.        , 0.45454545, 0.85858586, 0.77777778, 0.58585859,\n",
       "       0.18181818, 0.71717172, 0.01010101, 0.04040404, 0.07070707,\n",
       "       0.92929293, 0.35353535, 0.21212121, 0.88888889, 0.56565657,\n",
       "       0.09090909, 0.06060606, 0.01010101, 0.55555556, 0.32323232,\n",
       "       0.33333333, 0.48484848, 0.88888889, 0.63636364, 0.13131313,\n",
       "       0.09090909, 0.1010101 , 0.18181818, 0.34343434, 0.38383838,\n",
       "       0.77777778, 1.        , 0.26262626, 0.11111111, 0.16161616])"
      ]
     },
     "execution_count": 3,
     "metadata": {},
     "output_type": "execute_result"
    }
   ],
   "source": [
    "(x - np.min(x))/(np.max(x) - np.min(x))           # 最值归一化"
   ]
  },
  {
   "cell_type": "code",
   "execution_count": 4,
   "metadata": {},
   "outputs": [],
   "source": [
    "x2 = np.random.randint(0, 100, (50, 2))"
   ]
  },
  {
   "cell_type": "code",
   "execution_count": 5,
   "metadata": {},
   "outputs": [],
   "source": [
    "x2 = np.array(x2, dtype = float)"
   ]
  },
  {
   "cell_type": "code",
   "execution_count": 6,
   "metadata": {},
   "outputs": [],
   "source": [
    "x2[:,0] = (x2[:, 0] - np.mean(x2[:, 0])) / np.std(x2[:,0])\n",
    "x2[:,1] = (x2[:, 1] - np.mean(x2[:, 1])) / np.std(x2[:, 1])          # 均值方差归一化"
   ]
  },
  {
   "cell_type": "code",
   "execution_count": 7,
   "metadata": {},
   "outputs": [
    {
     "data": {
      "text/plain": [
       "array([-0.66287691,  1.56106077, -1.48788604, -1.09331645, -0.73461683,\n",
       "       -1.09331645, -0.55526702, -0.94983661,  0.377352  , -1.2367963 ])"
      ]
     },
     "execution_count": 7,
     "metadata": {},
     "output_type": "execute_result"
    }
   ],
   "source": [
    "x2[:10,0]"
   ]
  },
  {
   "cell_type": "code",
   "execution_count": 8,
   "metadata": {},
   "outputs": [
    {
     "data": {
      "text/plain": [
       "array([-1.61792482, -1.28788576, -0.51779462,  0.03227049,  1.46243975,\n",
       "        1.49911076,  1.2057427 ,  0.39898055,  1.42576874,  0.36230955])"
      ]
     },
     "execution_count": 8,
     "metadata": {},
     "output_type": "execute_result"
    }
   ],
   "source": [
    "x2[:10, 1]"
   ]
  },
  {
   "cell_type": "code",
   "execution_count": 9,
   "metadata": {},
   "outputs": [
    {
     "data": {
      "text/plain": [
       "9.658940314238862e-17"
      ]
     },
     "execution_count": 9,
     "metadata": {},
     "output_type": "execute_result"
    }
   ],
   "source": [
    "np.mean(x2[:,0])"
   ]
  },
  {
   "cell_type": "code",
   "execution_count": 12,
   "metadata": {},
   "outputs": [
    {
     "data": {
      "text/plain": [
       "0.9999999999999999"
      ]
     },
     "execution_count": 12,
     "metadata": {},
     "output_type": "execute_result"
    }
   ],
   "source": [
    "np.std(x2[:,1])"
   ]
  },
  {
   "cell_type": "code",
   "execution_count": 11,
   "metadata": {},
   "outputs": [
    {
     "data": {
      "text/plain": [
       "0.9999999999999998"
      ]
     },
     "execution_count": 11,
     "metadata": {},
     "output_type": "execute_result"
    }
   ],
   "source": [
    "np.std(x2[:,0])"
   ]
  },
  {
   "cell_type": "code",
   "execution_count": null,
   "metadata": {},
   "outputs": [],
   "source": []
  }
 ],
 "metadata": {
  "kernelspec": {
   "display_name": "Python 3",
   "language": "python",
   "name": "python3"
  },
  "language_info": {
   "codemirror_mode": {
    "name": "ipython",
    "version": 3
   },
   "file_extension": ".py",
   "mimetype": "text/x-python",
   "name": "python",
   "nbconvert_exporter": "python",
   "pygments_lexer": "ipython3",
   "version": "3.6.5"
  }
 },
 "nbformat": 4,
 "nbformat_minor": 2
}
