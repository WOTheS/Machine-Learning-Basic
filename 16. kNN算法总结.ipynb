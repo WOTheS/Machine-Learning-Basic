{
 "cells": [
  {
   "cell_type": "markdown",
   "metadata": {},
   "source": [
    "# kNN算法\n",
    "- 解决分类问题\n",
    "- 天然可以解决多分类问题\n",
    "- 思想简单，效果强大\n",
    "- 同样解决回归问题 （k均值  KNeighborsRegressor算法）\n",
    "\n",
    "## 缺点：\n",
    "\n",
    "- 效率低下\n",
    "        如果有m个样本，n个特征，则每预测一个新的数据就需要进行O（m*n）*\n",
    "- 高度数据相关\n",
    "        依赖于附近数据\n",
    "- 预测结果不具有解释性        \n",
    "- 维数灾难\n",
    "        随着维度的增加，“看似相近的”两个点之间的距离越来越大      （降维）"
   ]
  },
  {
   "cell_type": "markdown",
   "metadata": {},
   "source": [
    "# 机器学习算法流程\n",
    "- 将数据集分为训练集和测试集\n",
    "- 数据集进行归一化\n",
    "- 训练模型\n",
    "- 得到预测结果\n",
    "- 分类的准确度和寻找最好的超参数"
   ]
  },
  {
   "cell_type": "code",
   "execution_count": null,
   "metadata": {},
   "outputs": [],
   "source": []
  }
 ],
 "metadata": {
  "kernelspec": {
   "display_name": "Python 3",
   "language": "python",
   "name": "python3"
  },
  "language_info": {
   "codemirror_mode": {
    "name": "ipython",
    "version": 3
   },
   "file_extension": ".py",
   "mimetype": "text/x-python",
   "name": "python",
   "nbconvert_exporter": "python",
   "pygments_lexer": "ipython3",
   "version": "3.6.5"
  }
 },
 "nbformat": 4,
 "nbformat_minor": 2
}
