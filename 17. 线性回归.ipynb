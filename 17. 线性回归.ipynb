{
 "cells": [
  {
   "cell_type": "markdown",
   "metadata": {},
   "source": [
    "# 线性回归算法\n",
    "- 解决回归问题\n",
    "- 简单容易\n",
    "- 是许多强大非线性模型的基础\n",
    "- 具有可解释性\n",
    "- 蕴含机器学习的重要思想\n",
    "\n",
    "## 简单线性回归（单个特征和对应的一个标签）\n",
    "- 寻找一个拟合的表达式，使得预测值与真值之间的距离尽量地小\n",
    "- 通过损失函数或者效用函数寻找最优参数（**最优化原理**）"
   ]
  },
  {
   "cell_type": "code",
   "execution_count": null,
   "metadata": {},
   "outputs": [],
   "source": []
  }
 ],
 "metadata": {
  "kernelspec": {
   "display_name": "Python 3",
   "language": "python",
   "name": "python3"
  },
  "language_info": {
   "codemirror_mode": {
    "name": "ipython",
    "version": 3
   },
   "file_extension": ".py",
   "mimetype": "text/x-python",
   "name": "python",
   "nbconvert_exporter": "python",
   "pygments_lexer": "ipython3",
   "version": "3.6.5"
  }
 },
 "nbformat": 4,
 "nbformat_minor": 2
}
